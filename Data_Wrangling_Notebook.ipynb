{
 "cells": [
  {
   "cell_type": "markdown",
   "id": "af259d57",
   "metadata": {},
   "source": [
    "#### Modules to Import"
   ]
  },
  {
   "cell_type": "code",
   "execution_count": 149,
   "id": "a01f61d5",
   "metadata": {},
   "outputs": [],
   "source": [
    "import numpy as np\n",
    "import pandas as pd\n",
    "import sys\n",
    "from lxml import objectify\n",
    "import json\n",
    "import matplotlib.pyplot as plt"
   ]
  },
  {
   "cell_type": "markdown",
   "id": "2de4550e",
   "metadata": {},
   "source": [
    "# Numpy"
   ]
  },
  {
   "cell_type": "code",
   "execution_count": 7,
   "id": "62090b5a",
   "metadata": {
    "scrolled": true
   },
   "outputs": [
    {
     "data": {
      "text/plain": [
       "array([[ 2.4 ,  2.  ,  5.  ,  9.1 , 22.3 ,  9.1 ],\n",
       "       [ 1.63,  2.  ,  6.3 ,  9.2 , 23.1 , 65.7 ]])"
      ]
     },
     "execution_count": 7,
     "metadata": {},
     "output_type": "execute_result"
    }
   ],
   "source": [
    "data = np.array([[2.4,2,5,9.1,22.3,9.1],[1.63,2.0,6.3,9.2,23.1,65.7]])\n",
    "data"
   ]
  },
  {
   "cell_type": "code",
   "execution_count": 8,
   "id": "28768c8d",
   "metadata": {
    "scrolled": true
   },
   "outputs": [
    {
     "data": {
      "text/plain": [
       "dtype('float64')"
      ]
     },
     "execution_count": 8,
     "metadata": {},
     "output_type": "execute_result"
    }
   ],
   "source": [
    "data.dtype"
   ]
  },
  {
   "cell_type": "code",
   "execution_count": 9,
   "id": "cbf7a17e",
   "metadata": {},
   "outputs": [
    {
     "data": {
      "text/plain": [
       "2"
      ]
     },
     "execution_count": 9,
     "metadata": {},
     "output_type": "execute_result"
    }
   ],
   "source": [
    "data.ndim"
   ]
  },
  {
   "cell_type": "code",
   "execution_count": 10,
   "id": "96769b71",
   "metadata": {},
   "outputs": [
    {
     "data": {
      "text/plain": [
       "(2, 6)"
      ]
     },
     "execution_count": 10,
     "metadata": {},
     "output_type": "execute_result"
    }
   ],
   "source": [
    "data.shape"
   ]
  },
  {
   "cell_type": "code",
   "execution_count": 11,
   "id": "1f50ba6d",
   "metadata": {},
   "outputs": [
    {
     "data": {
      "text/plain": [
       "array([0., 0., 0., 0., 0.])"
      ]
     },
     "execution_count": 11,
     "metadata": {},
     "output_type": "execute_result"
    }
   ],
   "source": [
    "zeros = np.zeros(5)\n",
    "zeros"
   ]
  },
  {
   "cell_type": "code",
   "execution_count": 12,
   "id": "5be8c12b",
   "metadata": {},
   "outputs": [
    {
     "data": {
      "text/plain": [
       "array([[1., 1., 1.],\n",
       "       [1., 1., 1.]])"
      ]
     },
     "execution_count": 12,
     "metadata": {},
     "output_type": "execute_result"
    }
   ],
   "source": [
    "ones = np.ones((2,3))\n",
    "ones"
   ]
  },
  {
   "cell_type": "code",
   "execution_count": 13,
   "id": "b1256a52",
   "metadata": {},
   "outputs": [
    {
     "data": {
      "text/plain": [
       "array([[[ 2.4 ,  2.  ,  5.  ],\n",
       "        [ 9.1 , 22.3 ,  9.1 ]],\n",
       "\n",
       "       [[ 1.63,  2.  ,  6.3 ],\n",
       "        [ 9.2 , 23.1 , 65.7 ]]])"
      ]
     },
     "execution_count": 13,
     "metadata": {},
     "output_type": "execute_result"
    }
   ],
   "source": [
    "empties = np.empty((2,2,3))\n",
    "empties"
   ]
  },
  {
   "cell_type": "code",
   "execution_count": 14,
   "id": "3e59e00a",
   "metadata": {},
   "outputs": [
    {
     "data": {
      "text/plain": [
       "array([3, 4, 5, 6, 7])"
      ]
     },
     "execution_count": 14,
     "metadata": {},
     "output_type": "execute_result"
    }
   ],
   "source": [
    "arangement = np.arange(3,8)\n",
    "arangement"
   ]
  },
  {
   "cell_type": "code",
   "execution_count": 15,
   "id": "1de26acb",
   "metadata": {},
   "outputs": [
    {
     "data": {
      "text/plain": [
       "array([3., 4., 5., 6., 7.])"
      ]
     },
     "execution_count": 15,
     "metadata": {},
     "output_type": "execute_result"
    }
   ],
   "source": [
    "arangement.astype(np.float64)"
   ]
  },
  {
   "cell_type": "code",
   "execution_count": 16,
   "id": "73ddcfca",
   "metadata": {},
   "outputs": [
    {
     "data": {
      "text/plain": [
       "array([[0., 0., 0.],\n",
       "       [0., 0., 0.],\n",
       "       [0., 0., 0.],\n",
       "       [0., 0., 0.],\n",
       "       [0., 0., 0.],\n",
       "       [0., 0., 0.],\n",
       "       [0., 0., 0.],\n",
       "       [0., 0., 0.]])"
      ]
     },
     "execution_count": 16,
     "metadata": {},
     "output_type": "execute_result"
    }
   ],
   "source": [
    "arr = np.zeros([8,3])\n",
    "arr"
   ]
  },
  {
   "cell_type": "code",
   "execution_count": 17,
   "id": "f6223806",
   "metadata": {},
   "outputs": [
    {
     "data": {
      "text/plain": [
       "array([[0., 0., 0.],\n",
       "       [1., 0., 0.],\n",
       "       [2., 0., 0.],\n",
       "       [3., 0., 0.],\n",
       "       [4., 0., 0.],\n",
       "       [5., 0., 0.],\n",
       "       [6., 0., 0.],\n",
       "       [7., 0., 0.]])"
      ]
     },
     "execution_count": 17,
     "metadata": {},
     "output_type": "execute_result"
    }
   ],
   "source": [
    "for i in range(8):\n",
    "    arr[i][0]=i\n",
    "arr"
   ]
  },
  {
   "cell_type": "code",
   "execution_count": 18,
   "id": "374919d4",
   "metadata": {},
   "outputs": [
    {
     "data": {
      "text/plain": [
       "array([[0., 0., 0.],\n",
       "       [1., 1., 1.],\n",
       "       [2., 2., 2.],\n",
       "       [3., 3., 3.],\n",
       "       [4., 4., 4.],\n",
       "       [5., 5., 5.],\n",
       "       [6., 6., 6.],\n",
       "       [7., 7., 7.]])"
      ]
     },
     "execution_count": 18,
     "metadata": {},
     "output_type": "execute_result"
    }
   ],
   "source": [
    "for i in range(8):\n",
    "    arr[i]=i\n",
    "arr"
   ]
  },
  {
   "cell_type": "code",
   "execution_count": 19,
   "id": "650b2c35",
   "metadata": {},
   "outputs": [
    {
     "data": {
      "text/plain": [
       "array([[ 0,  1,  2,  3,  4],\n",
       "       [ 5,  6,  7,  8,  9],\n",
       "       [10, 11, 12, 13, 14],\n",
       "       [15, 16, 17, 18, 19],\n",
       "       [20, 21, 22, 23, 24]])"
      ]
     },
     "execution_count": 19,
     "metadata": {},
     "output_type": "execute_result"
    }
   ],
   "source": [
    "arr = np.arange(25).reshape((5,5))\n",
    "arr"
   ]
  },
  {
   "cell_type": "code",
   "execution_count": 20,
   "id": "583b0bc1",
   "metadata": {},
   "outputs": [
    {
     "data": {
      "text/plain": [
       "array([[ 0,  5, 10, 15, 20],\n",
       "       [ 1,  6, 11, 16, 21],\n",
       "       [ 2,  7, 12, 17, 22],\n",
       "       [ 3,  8, 13, 18, 23],\n",
       "       [ 4,  9, 14, 19, 24]])"
      ]
     },
     "execution_count": 20,
     "metadata": {},
     "output_type": "execute_result"
    }
   ],
   "source": [
    "trans = arr.T.copy()\n",
    "trans"
   ]
  },
  {
   "cell_type": "code",
   "execution_count": 21,
   "id": "6c594284",
   "metadata": {},
   "outputs": [
    {
     "data": {
      "text/plain": [
       "array([[ 750,  800,  850,  900,  950],\n",
       "       [ 800,  855,  910,  965, 1020],\n",
       "       [ 850,  910,  970, 1030, 1090],\n",
       "       [ 900,  965, 1030, 1095, 1160],\n",
       "       [ 950, 1020, 1090, 1160, 1230]])"
      ]
     },
     "execution_count": 21,
     "metadata": {},
     "output_type": "execute_result"
    }
   ],
   "source": [
    "addy = np.dot(trans,arr)\n",
    "addy"
   ]
  },
  {
   "cell_type": "code",
   "execution_count": 22,
   "id": "bf77b560",
   "metadata": {},
   "outputs": [
    {
     "data": {
      "text/plain": [
       "array([[-0.49293677, -0.53902768,  1.83650526,  0.76560633,  1.67311975],\n",
       "       [-0.69440273, -1.31310702, -0.12140803, -1.40885427,  0.4512661 ],\n",
       "       [-0.84265403, -0.99035788, -0.41678628,  0.92386226,  0.86379544],\n",
       "       [-0.69920511,  1.10685315,  0.75645549, -0.14937793, -0.07813541]])"
      ]
     },
     "execution_count": 22,
     "metadata": {},
     "output_type": "execute_result"
    }
   ],
   "source": [
    "np.random.standard_normal([4,5])"
   ]
  },
  {
   "cell_type": "code",
   "execution_count": 23,
   "id": "3163b311",
   "metadata": {},
   "outputs": [
    {
     "data": {
      "text/plain": [
       "array([[ 750,  801,  852,  903,  954],\n",
       "       [ 805,  861,  917,  973, 1029],\n",
       "       [ 860,  921,  982, 1043, 1104],\n",
       "       [ 915,  981, 1047, 1113, 1179],\n",
       "       [ 970, 1041, 1112, 1183, 1254]])"
      ]
     },
     "execution_count": 23,
     "metadata": {},
     "output_type": "execute_result"
    }
   ],
   "source": [
    "addy + arr\n",
    "np.add(arr,addy)"
   ]
  },
  {
   "cell_type": "code",
   "execution_count": 24,
   "id": "9dd4300e",
   "metadata": {},
   "outputs": [
    {
     "name": "stdout",
     "output_type": "stream",
     "text": [
      "Z:\n",
      "[14.14213562 13.45362405 12.80624847 12.20655562 11.66190379 11.18033989\n",
      " 10.77032961 10.44030651 10.19803903 10.04987562 10.         10.04987562\n",
      " 10.19803903 10.44030651 10.77032961 11.18033989 11.66190379 12.20655562\n",
      " 12.80624847 13.45362405]\n",
      "[13.45362405 12.72792206 12.04159458 11.40175425 10.81665383 10.29563014\n",
      "  9.8488578   9.48683298  9.21954446  9.05538514  9.          9.05538514\n",
      "  9.21954446  9.48683298  9.8488578  10.29563014 10.81665383 11.40175425\n",
      " 12.04159458 12.72792206]\n",
      "[12.80624847 12.04159458 11.3137085  10.63014581 10.          9.43398113\n",
      "  8.94427191  8.54400375  8.24621125  8.06225775  8.          8.06225775\n",
      "  8.24621125  8.54400375  8.94427191  9.43398113 10.         10.63014581\n",
      " 11.3137085  12.04159458]\n",
      "[12.20655562 11.40175425 10.63014581  9.89949494  9.21954446  8.60232527\n",
      "  8.06225775  7.61577311  7.28010989  7.07106781  7.          7.07106781\n",
      "  7.28010989  7.61577311  8.06225775  8.60232527  9.21954446  9.89949494\n",
      " 10.63014581 11.40175425]\n",
      "[11.66190379 10.81665383 10.          9.21954446  8.48528137  7.81024968\n",
      "  7.21110255  6.70820393  6.32455532  6.08276253  6.          6.08276253\n",
      "  6.32455532  6.70820393  7.21110255  7.81024968  8.48528137  9.21954446\n",
      " 10.         10.81665383]\n",
      "[11.18033989 10.29563014  9.43398113  8.60232527  7.81024968  7.07106781\n",
      "  6.40312424  5.83095189  5.38516481  5.09901951  5.          5.09901951\n",
      "  5.38516481  5.83095189  6.40312424  7.07106781  7.81024968  8.60232527\n",
      "  9.43398113 10.29563014]\n",
      "[10.77032961  9.8488578   8.94427191  8.06225775  7.21110255  6.40312424\n",
      "  5.65685425  5.          4.47213595  4.12310563  4.          4.12310563\n",
      "  4.47213595  5.          5.65685425  6.40312424  7.21110255  8.06225775\n",
      "  8.94427191  9.8488578 ]\n",
      "[10.44030651  9.48683298  8.54400375  7.61577311  6.70820393  5.83095189\n",
      "  5.          4.24264069  3.60555128  3.16227766  3.          3.16227766\n",
      "  3.60555128  4.24264069  5.          5.83095189  6.70820393  7.61577311\n",
      "  8.54400375  9.48683298]\n",
      "[10.19803903  9.21954446  8.24621125  7.28010989  6.32455532  5.38516481\n",
      "  4.47213595  3.60555128  2.82842712  2.23606798  2.          2.23606798\n",
      "  2.82842712  3.60555128  4.47213595  5.38516481  6.32455532  7.28010989\n",
      "  8.24621125  9.21954446]\n",
      "[10.04987562  9.05538514  8.06225775  7.07106781  6.08276253  5.09901951\n",
      "  4.12310563  3.16227766  2.23606798  1.41421356  1.          1.41421356\n",
      "  2.23606798  3.16227766  4.12310563  5.09901951  6.08276253  7.07106781\n",
      "  8.06225775  9.05538514]\n",
      "[10.  9.  8.  7.  6.  5.  4.  3.  2.  1.  0.  1.  2.  3.  4.  5.  6.  7.\n",
      "  8.  9.]\n",
      "[10.04987562  9.05538514  8.06225775  7.07106781  6.08276253  5.09901951\n",
      "  4.12310563  3.16227766  2.23606798  1.41421356  1.          1.41421356\n",
      "  2.23606798  3.16227766  4.12310563  5.09901951  6.08276253  7.07106781\n",
      "  8.06225775  9.05538514]\n",
      "[10.19803903  9.21954446  8.24621125  7.28010989  6.32455532  5.38516481\n",
      "  4.47213595  3.60555128  2.82842712  2.23606798  2.          2.23606798\n",
      "  2.82842712  3.60555128  4.47213595  5.38516481  6.32455532  7.28010989\n",
      "  8.24621125  9.21954446]\n",
      "[10.44030651  9.48683298  8.54400375  7.61577311  6.70820393  5.83095189\n",
      "  5.          4.24264069  3.60555128  3.16227766  3.          3.16227766\n",
      "  3.60555128  4.24264069  5.          5.83095189  6.70820393  7.61577311\n",
      "  8.54400375  9.48683298]\n",
      "[10.77032961  9.8488578   8.94427191  8.06225775  7.21110255  6.40312424\n",
      "  5.65685425  5.          4.47213595  4.12310563  4.          4.12310563\n",
      "  4.47213595  5.          5.65685425  6.40312424  7.21110255  8.06225775\n",
      "  8.94427191  9.8488578 ]\n",
      "[11.18033989 10.29563014  9.43398113  8.60232527  7.81024968  7.07106781\n",
      "  6.40312424  5.83095189  5.38516481  5.09901951  5.          5.09901951\n",
      "  5.38516481  5.83095189  6.40312424  7.07106781  7.81024968  8.60232527\n",
      "  9.43398113 10.29563014]\n",
      "[11.66190379 10.81665383 10.          9.21954446  8.48528137  7.81024968\n",
      "  7.21110255  6.70820393  6.32455532  6.08276253  6.          6.08276253\n",
      "  6.32455532  6.70820393  7.21110255  7.81024968  8.48528137  9.21954446\n",
      " 10.         10.81665383]\n",
      "[12.20655562 11.40175425 10.63014581  9.89949494  9.21954446  8.60232527\n",
      "  8.06225775  7.61577311  7.28010989  7.07106781  7.          7.07106781\n",
      "  7.28010989  7.61577311  8.06225775  8.60232527  9.21954446  9.89949494\n",
      " 10.63014581 11.40175425]\n",
      "[12.80624847 12.04159458 11.3137085  10.63014581 10.          9.43398113\n",
      "  8.94427191  8.54400375  8.24621125  8.06225775  8.          8.06225775\n",
      "  8.24621125  8.54400375  8.94427191  9.43398113 10.         10.63014581\n",
      " 11.3137085  12.04159458]\n",
      "[13.45362405 12.72792206 12.04159458 11.40175425 10.81665383 10.29563014\n",
      "  9.8488578   9.48683298  9.21954446  9.05538514  9.          9.05538514\n",
      "  9.21954446  9.48683298  9.8488578  10.29563014 10.81665383 11.40175425\n",
      " 12.04159458 12.72792206]\n",
      "Y:\n",
      "[-10 -10 -10 -10 -10 -10 -10 -10 -10 -10 -10 -10 -10 -10 -10 -10 -10 -10\n",
      " -10 -10]\n",
      "[-9 -9 -9 -9 -9 -9 -9 -9 -9 -9 -9 -9 -9 -9 -9 -9 -9 -9 -9 -9]\n",
      "[-8 -8 -8 -8 -8 -8 -8 -8 -8 -8 -8 -8 -8 -8 -8 -8 -8 -8 -8 -8]\n",
      "[-7 -7 -7 -7 -7 -7 -7 -7 -7 -7 -7 -7 -7 -7 -7 -7 -7 -7 -7 -7]\n",
      "[-6 -6 -6 -6 -6 -6 -6 -6 -6 -6 -6 -6 -6 -6 -6 -6 -6 -6 -6 -6]\n",
      "[-5 -5 -5 -5 -5 -5 -5 -5 -5 -5 -5 -5 -5 -5 -5 -5 -5 -5 -5 -5]\n",
      "[-4 -4 -4 -4 -4 -4 -4 -4 -4 -4 -4 -4 -4 -4 -4 -4 -4 -4 -4 -4]\n",
      "[-3 -3 -3 -3 -3 -3 -3 -3 -3 -3 -3 -3 -3 -3 -3 -3 -3 -3 -3 -3]\n",
      "[-2 -2 -2 -2 -2 -2 -2 -2 -2 -2 -2 -2 -2 -2 -2 -2 -2 -2 -2 -2]\n",
      "[-1 -1 -1 -1 -1 -1 -1 -1 -1 -1 -1 -1 -1 -1 -1 -1 -1 -1 -1 -1]\n",
      "[0 0 0 0 0 0 0 0 0 0 0 0 0 0 0 0 0 0 0 0]\n",
      "[1 1 1 1 1 1 1 1 1 1 1 1 1 1 1 1 1 1 1 1]\n",
      "[2 2 2 2 2 2 2 2 2 2 2 2 2 2 2 2 2 2 2 2]\n",
      "[3 3 3 3 3 3 3 3 3 3 3 3 3 3 3 3 3 3 3 3]\n",
      "[4 4 4 4 4 4 4 4 4 4 4 4 4 4 4 4 4 4 4 4]\n",
      "[5 5 5 5 5 5 5 5 5 5 5 5 5 5 5 5 5 5 5 5]\n",
      "[6 6 6 6 6 6 6 6 6 6 6 6 6 6 6 6 6 6 6 6]\n",
      "[7 7 7 7 7 7 7 7 7 7 7 7 7 7 7 7 7 7 7 7]\n",
      "[8 8 8 8 8 8 8 8 8 8 8 8 8 8 8 8 8 8 8 8]\n",
      "[9 9 9 9 9 9 9 9 9 9 9 9 9 9 9 9 9 9 9 9]\n",
      "X:\n",
      "[-10  -9  -8  -7  -6  -5  -4  -3  -2  -1   0   1   2   3   4   5   6   7\n",
      "   8   9]\n",
      "[-10  -9  -8  -7  -6  -5  -4  -3  -2  -1   0   1   2   3   4   5   6   7\n",
      "   8   9]\n",
      "[-10  -9  -8  -7  -6  -5  -4  -3  -2  -1   0   1   2   3   4   5   6   7\n",
      "   8   9]\n",
      "[-10  -9  -8  -7  -6  -5  -4  -3  -2  -1   0   1   2   3   4   5   6   7\n",
      "   8   9]\n",
      "[-10  -9  -8  -7  -6  -5  -4  -3  -2  -1   0   1   2   3   4   5   6   7\n",
      "   8   9]\n",
      "[-10  -9  -8  -7  -6  -5  -4  -3  -2  -1   0   1   2   3   4   5   6   7\n",
      "   8   9]\n",
      "[-10  -9  -8  -7  -6  -5  -4  -3  -2  -1   0   1   2   3   4   5   6   7\n",
      "   8   9]\n",
      "[-10  -9  -8  -7  -6  -5  -4  -3  -2  -1   0   1   2   3   4   5   6   7\n",
      "   8   9]\n",
      "[-10  -9  -8  -7  -6  -5  -4  -3  -2  -1   0   1   2   3   4   5   6   7\n",
      "   8   9]\n",
      "[-10  -9  -8  -7  -6  -5  -4  -3  -2  -1   0   1   2   3   4   5   6   7\n",
      "   8   9]\n",
      "[-10  -9  -8  -7  -6  -5  -4  -3  -2  -1   0   1   2   3   4   5   6   7\n",
      "   8   9]\n",
      "[-10  -9  -8  -7  -6  -5  -4  -3  -2  -1   0   1   2   3   4   5   6   7\n",
      "   8   9]\n",
      "[-10  -9  -8  -7  -6  -5  -4  -3  -2  -1   0   1   2   3   4   5   6   7\n",
      "   8   9]\n",
      "[-10  -9  -8  -7  -6  -5  -4  -3  -2  -1   0   1   2   3   4   5   6   7\n",
      "   8   9]\n",
      "[-10  -9  -8  -7  -6  -5  -4  -3  -2  -1   0   1   2   3   4   5   6   7\n",
      "   8   9]\n",
      "[-10  -9  -8  -7  -6  -5  -4  -3  -2  -1   0   1   2   3   4   5   6   7\n",
      "   8   9]\n",
      "[-10  -9  -8  -7  -6  -5  -4  -3  -2  -1   0   1   2   3   4   5   6   7\n",
      "   8   9]\n",
      "[-10  -9  -8  -7  -6  -5  -4  -3  -2  -1   0   1   2   3   4   5   6   7\n",
      "   8   9]\n",
      "[-10  -9  -8  -7  -6  -5  -4  -3  -2  -1   0   1   2   3   4   5   6   7\n",
      "   8   9]\n",
      "[-10  -9  -8  -7  -6  -5  -4  -3  -2  -1   0   1   2   3   4   5   6   7\n",
      "   8   9]\n"
     ]
    }
   ],
   "source": [
    "points = np.arange(-10,10,1)\n",
    "xs,ys = np.meshgrid(points,points)\n",
    "z = np.sqrt(xs**2+ys**2)\n",
    "print(\"Z:\")\n",
    "for i in z:\n",
    "    print(i)\n",
    "print(\"Y:\")\n",
    "for i in ys:\n",
    "    print(i)\n",
    "print(\"X:\")\n",
    "for i in xs:\n",
    "    print(i)"
   ]
  },
  {
   "cell_type": "markdown",
   "id": "4dacf118",
   "metadata": {},
   "source": [
    "### Matplotlib"
   ]
  },
  {
   "cell_type": "code",
   "execution_count": 102,
   "id": "69973d86",
   "metadata": {},
   "outputs": [
    {
     "data": {
      "text/plain": [
       "Text(0.5, 1.0, 'First Graph using Matplotlib $\\\\sqrt{x^2 + y^2}$')"
      ]
     },
     "execution_count": 102,
     "metadata": {},
     "output_type": "execute_result"
    },
    {
     "data": {
      "image/png": "[encoded data removed]",
      "text/plain": [
       "<Figure size 640x480 with 2 Axes>"
      ]
     },
     "metadata": {},
     "output_type": "display_data"
    }
   ],
   "source": [
    "plt.imshow(z,cmap=\"Reds\",extent=[-5,5,-5,5])\n",
    "plt.colorbar()\n",
    "plt.title(\"First Graph using Matplotlib $\\sqrt{x^2 + y^2}$\")"
   ]
  },
  {
   "cell_type": "code",
   "execution_count": 26,
   "id": "94b33d1d",
   "metadata": {},
   "outputs": [
    {
     "name": "stdout",
     "output_type": "stream",
     "text": [
      "Initial py:\n",
      " [[-1.42382504  1.26372846 -0.87066174]\n",
      " [-0.25917323 -0.07534331 -0.74088465]\n",
      " [-1.3677927   0.6488928   0.36105811]] \n",
      "\n",
      "After [py<1]:\n",
      " [[0.         1.26372846 0.        ]\n",
      " [0.         0.         0.        ]\n",
      " [0.         0.         0.        ]] \n",
      "\n",
      "After np.where(py > 1):\n",
      "[[0.         1.26372846 0.        ]\n",
      " [0.         0.         0.        ]\n",
      " [0.         0.         0.        ]]\n"
     ]
    }
   ],
   "source": [
    "rng = np.random.default_rng(seed=12345)\n",
    "py = rng.standard_normal((3,3))\n",
    "print(\"Initial py:\\n\",py,\"\\n\")\n",
    "py[py<1] = 0\n",
    "print(\"After [py<1]:\\n\",py,\"\\n\")\n",
    "np.where(py > 1,2,py)\n",
    "print(\"After np.where(py > 1):\")\n",
    "print(py)"
   ]
  },
  {
   "cell_type": "code",
   "execution_count": 27,
   "id": "1432a0c7",
   "metadata": {},
   "outputs": [
    {
     "data": {
      "text/plain": [
       "(array([1, 2, 3]), array([1, 2, 6]), array([1, 3, 6]))"
      ]
     },
     "execution_count": 27,
     "metadata": {},
     "output_type": "execute_result"
    }
   ],
   "source": [
    "a = np.array([1,2,3])\n",
    "left = np.cumprod(a)\n",
    "right = np.cumsum(a)\n",
    "a,left,right\n"
   ]
  },
  {
   "cell_type": "code",
   "execution_count": 28,
   "id": "d23d65c0",
   "metadata": {},
   "outputs": [
    {
     "data": {
      "text/plain": [
       "array([ 4, 42,  2,  1])"
      ]
     },
     "execution_count": 28,
     "metadata": {},
     "output_type": "execute_result"
    }
   ],
   "source": [
    "t = [4,42,2,1]\n",
    "t = np.array(t)\n",
    "t"
   ]
  },
  {
   "cell_type": "code",
   "execution_count": 29,
   "id": "bb7233ad",
   "metadata": {},
   "outputs": [
    {
     "data": {
      "text/plain": [
       "array([[ 0,  1,  2,  3],\n",
       "       [ 4,  5,  6,  7],\n",
       "       [ 8,  9, 10, 11],\n",
       "       [12, 13, 14, 15],\n",
       "       [16, 17, 18, 19]])"
      ]
     },
     "execution_count": 29,
     "metadata": {},
     "output_type": "execute_result"
    }
   ],
   "source": [
    "randomArr = np.arange(20).reshape((5,4))\n",
    "np.save(\"Saved_Array_File\",randomArr)\n",
    "#np.savez multipe arrays\n",
    "#np.savez_compressed multiple arrays compressed file\n",
    "np.load(\"Saved_Array_File.npy\")"
   ]
  },
  {
   "cell_type": "markdown",
   "id": "195e73a0",
   "metadata": {},
   "source": [
    "### Random Walks"
   ]
  },
  {
   "cell_type": "code",
   "execution_count": 30,
   "id": "54bf96c2",
   "metadata": {},
   "outputs": [
    {
     "name": "stdout",
     "output_type": "stream",
     "text": [
      "Longest Backwards:  -13\n",
      "Longest Foward:  14\n",
      "Endpoint:  [ 6 14  4 -6]\n"
     ]
    },
    {
     "data": {
      "image/png": "[encoded data removed]",
      "text/plain": [
       "<Figure size 640x480 with 1 Axes>"
      ]
     },
     "metadata": {},
     "output_type": "display_data"
    }
   ],
   "source": [
    "nsteps = 100\n",
    "nwalks = 4\n",
    "draws = rng.integers(0,2,size=(nwalks,nsteps))\n",
    "steps = np.where(draws==0,1,-1)\n",
    "walk = steps.cumsum(axis=1)\n",
    "plt.plot(walk.T)\n",
    "plt.title(\"Various Walks\")\n",
    "print(\"Longest Backwards: \",walk.min())\n",
    "print(\"Longest Foward: \", walk.max())\n",
    "print(\"Endpoint: \",walk.T[-1])"
   ]
  },
  {
   "cell_type": "markdown",
   "id": "6a84178d",
   "metadata": {},
   "source": [
    "# Pandas"
   ]
  },
  {
   "cell_type": "code",
   "execution_count": 3,
   "id": "04101a96",
   "metadata": {},
   "outputs": [],
   "source": [
    "from pandas import Series, DataFrame"
   ]
  },
  {
   "cell_type": "code",
   "execution_count": 46,
   "id": "35f04991",
   "metadata": {},
   "outputs": [],
   "source": [
    "obj = pd.Series([965,12,23,6,5,89,89,96,64])\n",
    "new = obj.array"
   ]
  },
  {
   "cell_type": "code",
   "execution_count": 47,
   "id": "5f6a26a9",
   "metadata": {},
   "outputs": [
    {
     "data": {
      "text/plain": [
       "1    12\n",
       "3     6\n",
       "4     5\n",
       "dtype: int64"
      ]
     },
     "execution_count": 47,
     "metadata": {},
     "output_type": "execute_result"
    }
   ],
   "source": [
    "obj[obj<20]"
   ]
  },
  {
   "cell_type": "code",
   "execution_count": 51,
   "id": "d8902d7c",
   "metadata": {},
   "outputs": [
    {
     "data": {
      "text/plain": [
       "0             inf\n",
       "1    1.627548e+05\n",
       "2    9.744803e+09\n",
       "3    4.034288e+02\n",
       "4    1.484132e+02\n",
       "5    4.489613e+38\n",
       "6    4.489613e+38\n",
       "7    4.923458e+41\n",
       "8    6.235149e+27\n",
       "dtype: float64"
      ]
     },
     "execution_count": 51,
     "metadata": {},
     "output_type": "execute_result"
    }
   ],
   "source": [
    "np.exp(obj)"
   ]
  },
  {
   "cell_type": "code",
   "execution_count": 54,
   "id": "76fe7e9d",
   "metadata": {},
   "outputs": [
    {
     "data": {
      "text/plain": [
       "New York       99\n",
       "Los Angeles    12\n",
       "Chicago        21\n",
       "Miami          12\n",
       "dtype: int64"
      ]
     },
     "execution_count": 54,
     "metadata": {},
     "output_type": "execute_result"
    }
   ],
   "source": [
    "pyDict = {\"New York\":99,\"Los Angeles\":12,\"Chicago\":21,\"Miami\":12}\n",
    "panSerie = pd.Series(pyDict)\n",
    "panSerie"
   ]
  },
  {
   "cell_type": "code",
   "execution_count": 70,
   "id": "68bf2b53",
   "metadata": {},
   "outputs": [
    {
     "data": {
      "text/html": [
       "<div>\n",
       "<style scoped>\n",
       "    .dataframe tbody tr th:only-of-type {\n",
       "        vertical-align: middle;\n",
       "    }\n",
       "\n",
       "    .dataframe tbody tr th {\n",
       "        vertical-align: top;\n",
       "    }\n",
       "\n",
       "    .dataframe thead th {\n",
       "        text-align: right;\n",
       "    }\n",
       "</style>\n",
       "<table border=\"1\" class=\"dataframe\">\n",
       "  <thead>\n",
       "    <tr style=\"text-align: right;\">\n",
       "      <th></th>\n",
       "      <th>States</th>\n",
       "      <th>Year</th>\n",
       "      <th>Stats</th>\n",
       "      <th>Income</th>\n",
       "    </tr>\n",
       "  </thead>\n",
       "  <tbody>\n",
       "    <tr>\n",
       "      <th>A</th>\n",
       "      <td>New York</td>\n",
       "      <td>2000</td>\n",
       "      <td>3.1</td>\n",
       "      <td>NaN</td>\n",
       "    </tr>\n",
       "    <tr>\n",
       "      <th>B</th>\n",
       "      <td>Nevada</td>\n",
       "      <td>1999</td>\n",
       "      <td>4.8</td>\n",
       "      <td>NaN</td>\n",
       "    </tr>\n",
       "    <tr>\n",
       "      <th>C</th>\n",
       "      <td>Ohio</td>\n",
       "      <td>1976</td>\n",
       "      <td>3.2</td>\n",
       "      <td>NaN</td>\n",
       "    </tr>\n",
       "    <tr>\n",
       "      <th>D</th>\n",
       "      <td>Texas</td>\n",
       "      <td>1999</td>\n",
       "      <td>1.1</td>\n",
       "      <td>NaN</td>\n",
       "    </tr>\n",
       "    <tr>\n",
       "      <th>E</th>\n",
       "      <td>Virginia</td>\n",
       "      <td>1774</td>\n",
       "      <td>5.0</td>\n",
       "      <td>NaN</td>\n",
       "    </tr>\n",
       "  </tbody>\n",
       "</table>\n",
       "</div>"
      ],
      "text/plain": [
       "     States  Year  Stats Income\n",
       "A  New York  2000    3.1    NaN\n",
       "B    Nevada  1999    4.8    NaN\n",
       "C      Ohio  1976    3.2    NaN\n",
       "D     Texas  1999    1.1    NaN\n",
       "E  Virginia  1774    5.0    NaN"
      ]
     },
     "execution_count": 70,
     "metadata": {},
     "output_type": "execute_result"
    }
   ],
   "source": [
    "firstTable = {\n",
    "    \"States\" : [\"New York\",\"Nevada\",\"Ohio\",\"Texas\",\"Virginia\",\"Virginia\"],\n",
    "    \"Year\" : [2000,1999,1976,1999,1774,1814],\n",
    "    \"Stats\" : [3.1,4.8,3.2,1.1,5,4.8]\n",
    "}\n",
    "frame_first = pd.DataFrame(firstTable,columns=[\"States\",\"Year\",\"Stats\",\"Income\"],index=[\"A\",\"B\",\"C\",\"D\",\"E\",\"F\"])\n",
    "frame_first.head()"
   ]
  },
  {
   "cell_type": "code",
   "execution_count": 98,
   "id": "de22020c",
   "metadata": {},
   "outputs": [
    {
     "data": {
      "text/html": [
       "<div>\n",
       "<style scoped>\n",
       "    .dataframe tbody tr th:only-of-type {\n",
       "        vertical-align: middle;\n",
       "    }\n",
       "\n",
       "    .dataframe tbody tr th {\n",
       "        vertical-align: top;\n",
       "    }\n",
       "\n",
       "    .dataframe thead th {\n",
       "        text-align: right;\n",
       "    }\n",
       "</style>\n",
       "<table border=\"1\" class=\"dataframe\">\n",
       "  <thead>\n",
       "    <tr style=\"text-align: right;\">\n",
       "      <th></th>\n",
       "      <th>A</th>\n",
       "      <th>B</th>\n",
       "      <th>C</th>\n",
       "      <th>D</th>\n",
       "      <th>E</th>\n",
       "      <th>F</th>\n",
       "    </tr>\n",
       "  </thead>\n",
       "  <tbody>\n",
       "    <tr>\n",
       "      <th>States</th>\n",
       "      <td>New York</td>\n",
       "      <td>Nevada</td>\n",
       "      <td>Ohio</td>\n",
       "      <td>Texas</td>\n",
       "      <td>Virginia</td>\n",
       "      <td>Virginia</td>\n",
       "    </tr>\n",
       "    <tr>\n",
       "      <th>Year</th>\n",
       "      <td>2000</td>\n",
       "      <td>1999</td>\n",
       "      <td>1976</td>\n",
       "      <td>1999</td>\n",
       "      <td>1774</td>\n",
       "      <td>1814</td>\n",
       "    </tr>\n",
       "    <tr>\n",
       "      <th>Stats</th>\n",
       "      <td>3.1</td>\n",
       "      <td>4.8</td>\n",
       "      <td>3.2</td>\n",
       "      <td>1.1</td>\n",
       "      <td>5.0</td>\n",
       "      <td>4.8</td>\n",
       "    </tr>\n",
       "    <tr>\n",
       "      <th>Income</th>\n",
       "      <td>NaN</td>\n",
       "      <td>NaN</td>\n",
       "      <td>NaN</td>\n",
       "      <td>NaN</td>\n",
       "      <td>NaN</td>\n",
       "      <td>NaN</td>\n",
       "    </tr>\n",
       "  </tbody>\n",
       "</table>\n",
       "</div>"
      ],
      "text/plain": [
       "               A       B     C      D         E         F\n",
       "States  New York  Nevada  Ohio  Texas  Virginia  Virginia\n",
       "Year        2000    1999  1976   1999      1774      1814\n",
       "Stats        3.1     4.8   3.2    1.1       5.0       4.8\n",
       "Income       NaN     NaN   NaN    NaN       NaN       NaN"
      ]
     },
     "execution_count": 98,
     "metadata": {},
     "output_type": "execute_result"
    }
   ],
   "source": [
    "frame_first.T"
   ]
  },
  {
   "cell_type": "code",
   "execution_count": 4,
   "id": "004d31ef",
   "metadata": {},
   "outputs": [
    {
     "data": {
      "text/html": [
       "<div>\n",
       "<style scoped>\n",
       "    .dataframe tbody tr th:only-of-type {\n",
       "        vertical-align: middle;\n",
       "    }\n",
       "\n",
       "    .dataframe tbody tr th {\n",
       "        vertical-align: top;\n",
       "    }\n",
       "\n",
       "    .dataframe thead th {\n",
       "        text-align: right;\n",
       "    }\n",
       "</style>\n",
       "<table border=\"1\" class=\"dataframe\">\n",
       "  <thead>\n",
       "    <tr style=\"text-align: right;\">\n",
       "      <th>States</th>\n",
       "      <th>Ohio</th>\n",
       "      <th>New York</th>\n",
       "      <th>Rhode Island</th>\n",
       "    </tr>\n",
       "    <tr>\n",
       "      <th>Year</th>\n",
       "      <th></th>\n",
       "      <th></th>\n",
       "      <th></th>\n",
       "    </tr>\n",
       "  </thead>\n",
       "  <tbody>\n",
       "    <tr>\n",
       "      <th>2000</th>\n",
       "      <td>5666.0</td>\n",
       "      <td>9005.0</td>\n",
       "      <td>9111.0</td>\n",
       "    </tr>\n",
       "    <tr>\n",
       "      <th>2001</th>\n",
       "      <td>1233.0</td>\n",
       "      <td>9700.0</td>\n",
       "      <td>NaN</td>\n",
       "    </tr>\n",
       "    <tr>\n",
       "      <th>2003</th>\n",
       "      <td>9898988.0</td>\n",
       "      <td>71555.0</td>\n",
       "      <td>9888.0</td>\n",
       "    </tr>\n",
       "    <tr>\n",
       "      <th>1999</th>\n",
       "      <td>NaN</td>\n",
       "      <td>NaN</td>\n",
       "      <td>3999.0</td>\n",
       "    </tr>\n",
       "  </tbody>\n",
       "</table>\n",
       "</div>"
      ],
      "text/plain": [
       "States       Ohio  New York  Rhode Island\n",
       "Year                                     \n",
       "2000       5666.0    9005.0        9111.0\n",
       "2001       1233.0    9700.0           NaN\n",
       "2003    9898988.0   71555.0        9888.0\n",
       "1999          NaN       NaN        3999.0"
      ]
     },
     "execution_count": 4,
     "metadata": {},
     "output_type": "execute_result"
    }
   ],
   "source": [
    "populations = {\n",
    "    \"Ohio\": {2000:5666,2001:1233,2003:9898988},\n",
    "    \"New York\": {2000:9005,2001:9700,2003:71555},\n",
    "    \"Rhode Island\":{1999:3999,2000:9111,2003:9888}\n",
    "}\n",
    "pops_frame=pd.DataFrame(populations)\n",
    "pops_frame.columns.name=\"States\"\n",
    "pops_frame.index.name=\"Year\"\n",
    "pops_frame"
   ]
  },
  {
   "cell_type": "code",
   "execution_count": 89,
   "id": "5ed116b9",
   "metadata": {},
   "outputs": [
    {
     "data": {
      "text/plain": [
       "array([[5.666000e+03, 9.005000e+03, 9.111000e+03],\n",
       "       [1.233000e+03, 9.700000e+03,          nan],\n",
       "       [9.898988e+06, 7.155500e+04, 9.888000e+03],\n",
       "       [         nan,          nan, 3.999000e+03]])"
      ]
     },
     "execution_count": 89,
     "metadata": {},
     "output_type": "execute_result"
    }
   ],
   "source": [
    "pops_frame.to_numpy()"
   ]
  },
  {
   "cell_type": "code",
   "execution_count": 15,
   "id": "624536c2",
   "metadata": {},
   "outputs": [
    {
     "data": {
      "text/plain": [
       "Year\n",
       "2000    5666.0\n",
       "1999       NaN\n",
       "Name: Ohio, dtype: float64"
      ]
     },
     "execution_count": 15,
     "metadata": {},
     "output_type": "execute_result"
    }
   ],
   "source": [
    "pops_frame.T.loc[\"Ohio\",[2000,1999]]"
   ]
  },
  {
   "cell_type": "code",
   "execution_count": 19,
   "id": "81485753",
   "metadata": {},
   "outputs": [
    {
     "data": {
      "text/plain": [
       "Year\n",
       "2000    5666.0\n",
       "1999       NaN\n",
       "Name: Ohio, dtype: float64"
      ]
     },
     "execution_count": 19,
     "metadata": {},
     "output_type": "execute_result"
    }
   ],
   "source": [
    "pops_frame.T.iloc[0,[0,-1]]"
   ]
  },
  {
   "cell_type": "code",
   "execution_count": 23,
   "id": "19b35a39",
   "metadata": {},
   "outputs": [
    {
     "data": {
      "text/html": [
       "<div>\n",
       "<style scoped>\n",
       "    .dataframe tbody tr th:only-of-type {\n",
       "        vertical-align: middle;\n",
       "    }\n",
       "\n",
       "    .dataframe tbody tr th {\n",
       "        vertical-align: top;\n",
       "    }\n",
       "\n",
       "    .dataframe thead th {\n",
       "        text-align: right;\n",
       "    }\n",
       "</style>\n",
       "<table border=\"1\" class=\"dataframe\">\n",
       "  <thead>\n",
       "    <tr style=\"text-align: right;\">\n",
       "      <th>States</th>\n",
       "      <th>Ohio</th>\n",
       "      <th>New York</th>\n",
       "      <th>Rhode Island</th>\n",
       "    </tr>\n",
       "    <tr>\n",
       "      <th>Year</th>\n",
       "      <th></th>\n",
       "      <th></th>\n",
       "      <th></th>\n",
       "    </tr>\n",
       "  </thead>\n",
       "  <tbody>\n",
       "    <tr>\n",
       "      <th>2000</th>\n",
       "      <td>100000.0</td>\n",
       "      <td>100000.0</td>\n",
       "      <td>100000.0</td>\n",
       "    </tr>\n",
       "    <tr>\n",
       "      <th>2001</th>\n",
       "      <td>1233.0</td>\n",
       "      <td>9700.0</td>\n",
       "      <td>NaN</td>\n",
       "    </tr>\n",
       "    <tr>\n",
       "      <th>2003</th>\n",
       "      <td>9898988.0</td>\n",
       "      <td>71555.0</td>\n",
       "      <td>9888.0</td>\n",
       "    </tr>\n",
       "    <tr>\n",
       "      <th>1999</th>\n",
       "      <td>NaN</td>\n",
       "      <td>NaN</td>\n",
       "      <td>3999.0</td>\n",
       "    </tr>\n",
       "  </tbody>\n",
       "</table>\n",
       "</div>"
      ],
      "text/plain": [
       "States       Ohio  New York  Rhode Island\n",
       "Year                                     \n",
       "2000     100000.0  100000.0      100000.0\n",
       "2001       1233.0    9700.0           NaN\n",
       "2003    9898988.0   71555.0        9888.0\n",
       "1999          NaN       NaN        3999.0"
      ]
     },
     "execution_count": 23,
     "metadata": {},
     "output_type": "execute_result"
    }
   ],
   "source": [
    "pops_frame.loc[2000]=100000\n",
    "pops_frame"
   ]
  },
  {
   "cell_type": "code",
   "execution_count": 27,
   "id": "89b13d37",
   "metadata": {},
   "outputs": [
    {
     "name": "stdout",
     "output_type": "stream",
     "text": [
      "                 AAPL      GOOG       IBM      MSFT\n",
      "Date                                               \n",
      "2010-01-04  123432400   3927000   6155300  38409100\n",
      "2010-01-05  150476200   6031900   6841400  49749600\n",
      "2010-01-06  138040000   7987100   5605300  58182400\n",
      "2010-01-07  119282800  12876600   5840600  50559700\n",
      "2010-01-08  111902700   9483900   4197200  51197400\n",
      "...               ...       ...       ...       ...\n",
      "2016-10-17   23624900   1089500   5890400  23830000\n",
      "2016-10-18   24553500   1995600  12770600  19149500\n",
      "2016-10-19   20034600    116600   4632900  22878400\n",
      "2016-10-20   24125800   1734200   4023100  49455600\n",
      "2016-10-21   22384800   1260500   4401900  79974200\n",
      "\n",
      "[1714 rows x 4 columns]\n",
      "                  AAPL        GOOG         IBM       MSFT\n",
      "Date                                                     \n",
      "2010-01-04   27.990226  313.062468  113.304536  25.884104\n",
      "2010-01-05   28.038618  311.683844  111.935822  25.892466\n",
      "2010-01-06   27.592626  303.826685  111.208683  25.733566\n",
      "2010-01-07   27.541619  296.753749  110.823732  25.465944\n",
      "2010-01-08   27.724725  300.709808  111.935822  25.641571\n",
      "...                ...         ...         ...        ...\n",
      "2016-10-17  117.550003  779.960022  154.770004  57.220001\n",
      "2016-10-18  117.470001  795.260010  150.720001  57.660000\n",
      "2016-10-19  117.120003  801.500000  151.259995  57.529999\n",
      "2016-10-20  117.059998  796.969971  151.520004  57.250000\n",
      "2016-10-21  116.599998  799.369995  149.630005  59.660000\n",
      "\n",
      "[1714 rows x 4 columns]\n"
     ]
    }
   ],
   "source": [
    "price = pd.read_pickle('yahoo_price.pkl')\n",
    "volume = pd.read_pickle('yahoo_volume.pkl')\n",
    "print(volume)\n",
    "print(price)"
   ]
  },
  {
   "cell_type": "code",
   "execution_count": 84,
   "id": "c87607cc",
   "metadata": {},
   "outputs": [],
   "source": [
    "returns = price.pct_change()"
   ]
  },
  {
   "cell_type": "code",
   "execution_count": 39,
   "id": "e21e8d9a",
   "metadata": {},
   "outputs": [
    {
     "name": "stdout",
     "output_type": "stream",
     "text": [
      "IBM-GOOG covariance:  7.760644148356448e-05\n",
      "IBM-GOOG Correlation:  0.40509941874156463\n"
     ]
    }
   ],
   "source": [
    "covIBM = returns['IBM'].cov(returns['GOOG'])\n",
    "corrIBM = returns['IBM'].corr(returns['GOOG'])\n",
    "print(\"IBM-GOOG covariance: \",covIBM )\n",
    "print(\"IBM-GOOG Correlation: \",corrIBM )"
   ]
  },
  {
   "cell_type": "code",
   "execution_count": 42,
   "id": "b2133ce7",
   "metadata": {},
   "outputs": [
    {
     "name": "stdout",
     "output_type": "stream",
     "text": [
      "          AAPL      GOOG       IBM      MSFT\n",
      "AAPL  1.000000  0.407919  0.386817  0.389695\n",
      "GOOG  0.407919  1.000000  0.405099  0.465919\n",
      "IBM   0.386817  0.405099  1.000000  0.499764\n",
      "MSFT  0.389695  0.465919  0.499764  1.000000\n",
      "          AAPL      GOOG       IBM      MSFT\n",
      "AAPL  0.000277  0.000107  0.000078  0.000095\n",
      "GOOG  0.000107  0.000251  0.000078  0.000108\n",
      "IBM   0.000078  0.000078  0.000146  0.000089\n",
      "MSFT  0.000095  0.000108  0.000089  0.000215\n"
     ]
    }
   ],
   "source": [
    "retCorr = returns.corr()\n",
    "retCova = returns.cov()\n",
    "print(retCorr)\n",
    "print(retCova)"
   ]
  },
  {
   "cell_type": "code",
   "execution_count": 44,
   "id": "8e3b8bb7",
   "metadata": {},
   "outputs": [
    {
     "data": {
      "text/plain": [
       "AAPL    0.386817\n",
       "GOOG    0.405099\n",
       "IBM     1.000000\n",
       "MSFT    0.499764\n",
       "dtype: float64"
      ]
     },
     "execution_count": 44,
     "metadata": {},
     "output_type": "execute_result"
    }
   ],
   "source": [
    "returns.corrwith(returns[\"IBM\"])"
   ]
  },
  {
   "cell_type": "code",
   "execution_count": 76,
   "id": "53fb905e",
   "metadata": {},
   "outputs": [
    {
     "name": "stdout",
     "output_type": "stream",
     "text": [
      "         a   b   c   d\n",
      "message               \n",
      "hello    1   2   3   4\n",
      "world    5   6   7   8\n",
      "foo      9  10  11  12\n",
      "            A         B         C\n",
      "aaa -0.264438 -1.026059 -0.619500\n",
      "bbb  0.927272  0.302904 -0.032399\n",
      "ccc -0.264273 -0.386314 -0.217601\n",
      "ddd -0.871858 -0.348382  1.100491\n",
      "   a   b   c   d message\n",
      "0  1   2   3   4   hello\n",
      "1  5   6   7   8   world\n",
      "2  9  10  11  12     foo\n",
      "  something  a   b     c   d message\n",
      "0       one  1   2   3.0   4     NaN\n",
      "1       two  5   6   NaN   8   world\n",
      "2     three  9  10  11.0  12     foo\n"
     ]
    }
   ],
   "source": [
    "print(pd.read_csv(\"examples/ex1.csv\",index_col='message'))\n",
    "print(pd.read_csv(\"examples/ex3.txt\",sep=\"\\s+\"))\n",
    "print(pd.read_csv(\"examples/ex4.csv\",skiprows=[0,2,3]))\n",
    "print(pd.read_csv(\"examples/ex5.csv\",na_values=[\"NULL\"]))"
   ]
  },
  {
   "cell_type": "code",
   "execution_count": 91,
   "id": "affc717c",
   "metadata": {},
   "outputs": [
    {
     "data": {
      "text/html": [
       "<div>\n",
       "<style scoped>\n",
       "    .dataframe tbody tr th:only-of-type {\n",
       "        vertical-align: middle;\n",
       "    }\n",
       "\n",
       "    .dataframe tbody tr th {\n",
       "        vertical-align: top;\n",
       "    }\n",
       "\n",
       "    .dataframe thead th {\n",
       "        text-align: right;\n",
       "    }\n",
       "</style>\n",
       "<table border=\"1\" class=\"dataframe\">\n",
       "  <thead>\n",
       "    <tr style=\"text-align: right;\">\n",
       "      <th></th>\n",
       "      <th>AAPL</th>\n",
       "      <th>GOOG</th>\n",
       "      <th>IBM</th>\n",
       "      <th>MSFT</th>\n",
       "    </tr>\n",
       "    <tr>\n",
       "      <th>Date</th>\n",
       "      <th></th>\n",
       "      <th></th>\n",
       "      <th></th>\n",
       "      <th></th>\n",
       "    </tr>\n",
       "  </thead>\n",
       "  <tbody>\n",
       "    <tr>\n",
       "      <th>2010-01-04</th>\n",
       "      <td>27.990226</td>\n",
       "      <td>313.062468</td>\n",
       "      <td>113.304536</td>\n",
       "      <td>25.884104</td>\n",
       "    </tr>\n",
       "    <tr>\n",
       "      <th>2010-01-05</th>\n",
       "      <td>28.038618</td>\n",
       "      <td>311.683844</td>\n",
       "      <td>111.935822</td>\n",
       "      <td>25.892466</td>\n",
       "    </tr>\n",
       "    <tr>\n",
       "      <th>2010-01-06</th>\n",
       "      <td>27.592626</td>\n",
       "      <td>303.826685</td>\n",
       "      <td>111.208683</td>\n",
       "      <td>25.733566</td>\n",
       "    </tr>\n",
       "    <tr>\n",
       "      <th>...</th>\n",
       "      <td>...</td>\n",
       "      <td>...</td>\n",
       "      <td>...</td>\n",
       "      <td>...</td>\n",
       "    </tr>\n",
       "    <tr>\n",
       "      <th>2016-10-19</th>\n",
       "      <td>117.120003</td>\n",
       "      <td>801.500000</td>\n",
       "      <td>151.259995</td>\n",
       "      <td>57.529999</td>\n",
       "    </tr>\n",
       "    <tr>\n",
       "      <th>2016-10-20</th>\n",
       "      <td>117.059998</td>\n",
       "      <td>796.969971</td>\n",
       "      <td>151.520004</td>\n",
       "      <td>57.250000</td>\n",
       "    </tr>\n",
       "    <tr>\n",
       "      <th>2016-10-21</th>\n",
       "      <td>116.599998</td>\n",
       "      <td>799.369995</td>\n",
       "      <td>149.630005</td>\n",
       "      <td>59.660000</td>\n",
       "    </tr>\n",
       "  </tbody>\n",
       "</table>\n",
       "<p>1714 rows × 4 columns</p>\n",
       "</div>"
      ],
      "text/plain": [
       "                  AAPL        GOOG         IBM       MSFT\n",
       "Date                                                     \n",
       "2010-01-04   27.990226  313.062468  113.304536  25.884104\n",
       "2010-01-05   28.038618  311.683844  111.935822  25.892466\n",
       "2010-01-06   27.592626  303.826685  111.208683  25.733566\n",
       "...                ...         ...         ...        ...\n",
       "2016-10-19  117.120003  801.500000  151.259995  57.529999\n",
       "2016-10-20  117.059998  796.969971  151.520004  57.250000\n",
       "2016-10-21  116.599998  799.369995  149.630005  59.660000\n",
       "\n",
       "[1714 rows x 4 columns]"
      ]
     },
     "execution_count": 91,
     "metadata": {},
     "output_type": "execute_result"
    }
   ],
   "source": [
    "pd.options.display.max_rows=6\n",
    "price"
   ]
  },
  {
   "cell_type": "code",
   "execution_count": 98,
   "id": "a3aab6b4",
   "metadata": {},
   "outputs": [
    {
     "data": {
      "text/plain": [
       "<pandas.io.parsers.readers.TextFileReader at 0x1e9d28a4f70>"
      ]
     },
     "execution_count": 98,
     "metadata": {},
     "output_type": "execute_result"
    }
   ],
   "source": [
    "Parse = pd.read_csv(\"examples/ex6.csv\",nrows=4,chunksize=1000)\n",
    "Parse"
   ]
  },
  {
   "cell_type": "code",
   "execution_count": 108,
   "id": "48109711",
   "metadata": {},
   "outputs": [
    {
     "name": "stdout",
     "output_type": "stream",
     "text": [
      "0.467976300189 -0.0386485396255 -0.295344251987 -1.82472622729 L\r\n",
      "-0.358893469543 1.40445260007 0.704964644926 -0.200638304015 B\r\n",
      "-0.50184039929 0.659253707223 -0.421690619312 -0.0576883018364 G\r\n",
      "0.204886212202 1.07413396504 1.38836131252 -0.982404023494 R\r\n",
      "0.354627914484 -0.133115852296 0.283762637978 -0.837062961653 Q\r\n"
     ]
    }
   ],
   "source": [
    "import sys\n",
    "creat = pd.read_csv(\"examples/ex6.csv\",nrows = 5)\n",
    "creat.to_csv(sys.stdout,sep=\" \",index=False,header=False)"
   ]
  },
  {
   "cell_type": "code",
   "execution_count": 125,
   "id": "d0987f28",
   "metadata": {},
   "outputs": [
    {
     "data": {
      "text/plain": [
       "{'name': 'Charles',\n",
       " 'cities_lived': ['NYC', 'Los Angeles', 'San Francisco'],\n",
       " 'pet': None,\n",
       " 'siblings': [{'name': 'Adam', 'age': 42},\n",
       "  {'name': 'Matthew', 'age': 2},\n",
       "  {'name': 'Mark', 'age': 43, 'hobbies': ['Cooking', 'Running']}]}"
      ]
     },
     "execution_count": 125,
     "metadata": {},
     "output_type": "execute_result"
    }
   ],
   "source": [
    "obj = \"\"\"\n",
    "{\n",
    "    \"name\" : \"Charles\",\n",
    "    \"cities_lived\" : [\"NYC\",\"Los Angeles\",\"San Francisco\"],\n",
    "    \"pet\":null,\n",
    "    \"siblings\":[\n",
    "        {\"name\":\"Adam\", \"age\":42},\n",
    "        {\"name\":\"Matthew\", \"age\":2},\n",
    "        {\"name\":\"Mark\", \"age\":43,\"hobbies\":[\"Cooking\",\"Running\"]}\n",
    "        ]\n",
    "}\n",
    "\"\"\"\n",
    "res = json.loads(obj)\n",
    "res"
   ]
  },
  {
   "cell_type": "code",
   "execution_count": 131,
   "id": "989ff42c",
   "metadata": {},
   "outputs": [
    {
     "data": {
      "text/html": [
       "<div>\n",
       "<style scoped>\n",
       "    .dataframe tbody tr th:only-of-type {\n",
       "        vertical-align: middle;\n",
       "    }\n",
       "\n",
       "    .dataframe tbody tr th {\n",
       "        vertical-align: top;\n",
       "    }\n",
       "\n",
       "    .dataframe thead th {\n",
       "        text-align: right;\n",
       "    }\n",
       "</style>\n",
       "<table border=\"1\" class=\"dataframe\">\n",
       "  <thead>\n",
       "    <tr style=\"text-align: right;\">\n",
       "      <th></th>\n",
       "      <th>age</th>\n",
       "      <th>name</th>\n",
       "    </tr>\n",
       "  </thead>\n",
       "  <tbody>\n",
       "    <tr>\n",
       "      <th>0</th>\n",
       "      <td>42</td>\n",
       "      <td>Adam</td>\n",
       "    </tr>\n",
       "    <tr>\n",
       "      <th>1</th>\n",
       "      <td>2</td>\n",
       "      <td>Matthew</td>\n",
       "    </tr>\n",
       "    <tr>\n",
       "      <th>2</th>\n",
       "      <td>43</td>\n",
       "      <td>Mark</td>\n",
       "    </tr>\n",
       "  </tbody>\n",
       "</table>\n",
       "</div>"
      ],
      "text/plain": [
       "   age     name\n",
       "0   42     Adam\n",
       "1    2  Matthew\n",
       "2   43     Mark"
      ]
     },
     "execution_count": 131,
     "metadata": {},
     "output_type": "execute_result"
    }
   ],
   "source": [
    "siblings = pd.DataFrame(res[\"siblings\"],columns=[\"age\",\"name\"])\n",
    "siblings"
   ]
  },
  {
   "cell_type": "code",
   "execution_count": 132,
   "id": "3bfbff77",
   "metadata": {},
   "outputs": [
    {
     "data": {
      "text/html": [
       "<div>\n",
       "<style scoped>\n",
       "    .dataframe tbody tr th:only-of-type {\n",
       "        vertical-align: middle;\n",
       "    }\n",
       "\n",
       "    .dataframe tbody tr th {\n",
       "        vertical-align: top;\n",
       "    }\n",
       "\n",
       "    .dataframe thead th {\n",
       "        text-align: right;\n",
       "    }\n",
       "</style>\n",
       "<table border=\"1\" class=\"dataframe\">\n",
       "  <thead>\n",
       "    <tr style=\"text-align: right;\">\n",
       "      <th></th>\n",
       "      <th>a</th>\n",
       "      <th>b</th>\n",
       "      <th>c</th>\n",
       "    </tr>\n",
       "  </thead>\n",
       "  <tbody>\n",
       "    <tr>\n",
       "      <th>0</th>\n",
       "      <td>1</td>\n",
       "      <td>2</td>\n",
       "      <td>3</td>\n",
       "    </tr>\n",
       "    <tr>\n",
       "      <th>1</th>\n",
       "      <td>4</td>\n",
       "      <td>5</td>\n",
       "      <td>6</td>\n",
       "    </tr>\n",
       "    <tr>\n",
       "      <th>2</th>\n",
       "      <td>7</td>\n",
       "      <td>8</td>\n",
       "      <td>9</td>\n",
       "    </tr>\n",
       "  </tbody>\n",
       "</table>\n",
       "</div>"
      ],
      "text/plain": [
       "   a  b  c\n",
       "0  1  2  3\n",
       "1  4  5  6\n",
       "2  7  8  9"
      ]
     },
     "execution_count": 132,
     "metadata": {},
     "output_type": "execute_result"
    }
   ],
   "source": [
    "pd.read_json(\"examples/example.json\")"
   ]
  },
  {
   "cell_type": "code",
   "execution_count": 135,
   "id": "21ffcee3",
   "metadata": {},
   "outputs": [
    {
     "name": "stdout",
     "output_type": "stream",
     "text": [
      "{\"one\":{\"0\":0.4679763002,\"1\":-0.3588934695,\"2\":-0.5018403993,\"3\":0.2048862122,\"4\":0.3546279145},\"two\":{\"0\":-0.0386485396,\"1\":1.4044526001,\"2\":0.6592537072,\"3\":1.074133965,\"4\":-0.1331158523},\"three\":{\"0\":-0.295344252,\"1\":0.7049646449,\"2\":-0.4216906193,\"3\":1.3883613125,\"4\":0.283762638},\"four\":{\"0\":-1.8247262273,\"1\":-0.200638304,\"2\":-0.0576883018,\"3\":-0.9824040235,\"4\":-0.8370629617},\"key\":{\"0\":\"L\",\"1\":\"B\",\"2\":\"G\",\"3\":\"R\",\"4\":\"Q\"}}"
     ]
    }
   ],
   "source": [
    "creat.to_json(sys.stdout)"
   ]
  },
  {
   "cell_type": "code",
   "execution_count": 144,
   "id": "53c770e8",
   "metadata": {},
   "outputs": [
    {
     "data": {
      "text/html": [
       "<div>\n",
       "<style scoped>\n",
       "    .dataframe tbody tr th:only-of-type {\n",
       "        vertical-align: middle;\n",
       "    }\n",
       "\n",
       "    .dataframe tbody tr th {\n",
       "        vertical-align: top;\n",
       "    }\n",
       "\n",
       "    .dataframe thead th {\n",
       "        text-align: right;\n",
       "    }\n",
       "</style>\n",
       "<table border=\"1\" class=\"dataframe\">\n",
       "  <thead>\n",
       "    <tr style=\"text-align: right;\">\n",
       "      <th></th>\n",
       "      <th>Bank Name</th>\n",
       "      <th>City</th>\n",
       "      <th>ST</th>\n",
       "      <th>CERT</th>\n",
       "      <th>Acquiring Institution</th>\n",
       "      <th>Closing Date</th>\n",
       "      <th>Updated Date</th>\n",
       "    </tr>\n",
       "  </thead>\n",
       "  <tbody>\n",
       "    <tr>\n",
       "      <th>0</th>\n",
       "      <td>Allied Bank</td>\n",
       "      <td>Mulberry</td>\n",
       "      <td>AR</td>\n",
       "      <td>91</td>\n",
       "      <td>Today's Bank</td>\n",
       "      <td>September 23, 2016</td>\n",
       "      <td>November 17, 2016</td>\n",
       "    </tr>\n",
       "    <tr>\n",
       "      <th>1</th>\n",
       "      <td>The Woodbury Banking Company</td>\n",
       "      <td>Woodbury</td>\n",
       "      <td>GA</td>\n",
       "      <td>11297</td>\n",
       "      <td>United Bank</td>\n",
       "      <td>August 19, 2016</td>\n",
       "      <td>November 17, 2016</td>\n",
       "    </tr>\n",
       "    <tr>\n",
       "      <th>2</th>\n",
       "      <td>First CornerStone Bank</td>\n",
       "      <td>King of Prussia</td>\n",
       "      <td>PA</td>\n",
       "      <td>35312</td>\n",
       "      <td>First-Citizens Bank &amp; Trust Company</td>\n",
       "      <td>May 6, 2016</td>\n",
       "      <td>September 6, 2016</td>\n",
       "    </tr>\n",
       "    <tr>\n",
       "      <th>...</th>\n",
       "      <td>...</td>\n",
       "      <td>...</td>\n",
       "      <td>...</td>\n",
       "      <td>...</td>\n",
       "      <td>...</td>\n",
       "      <td>...</td>\n",
       "      <td>...</td>\n",
       "    </tr>\n",
       "    <tr>\n",
       "      <th>544</th>\n",
       "      <td>First Alliance Bank &amp; Trust Co.</td>\n",
       "      <td>Manchester</td>\n",
       "      <td>NH</td>\n",
       "      <td>34264</td>\n",
       "      <td>Southern New Hampshire Bank &amp; Trust</td>\n",
       "      <td>February 2, 2001</td>\n",
       "      <td>February 18, 2003</td>\n",
       "    </tr>\n",
       "    <tr>\n",
       "      <th>545</th>\n",
       "      <td>National State Bank of Metropolis</td>\n",
       "      <td>Metropolis</td>\n",
       "      <td>IL</td>\n",
       "      <td>3815</td>\n",
       "      <td>Banterra Bank of Marion</td>\n",
       "      <td>December 14, 2000</td>\n",
       "      <td>March 17, 2005</td>\n",
       "    </tr>\n",
       "    <tr>\n",
       "      <th>546</th>\n",
       "      <td>Bank of Honolulu</td>\n",
       "      <td>Honolulu</td>\n",
       "      <td>HI</td>\n",
       "      <td>21029</td>\n",
       "      <td>Bank of the Orient</td>\n",
       "      <td>October 13, 2000</td>\n",
       "      <td>March 17, 2005</td>\n",
       "    </tr>\n",
       "  </tbody>\n",
       "</table>\n",
       "<p>547 rows × 7 columns</p>\n",
       "</div>"
      ],
      "text/plain": [
       "                             Bank Name             City  ST   CERT  \\\n",
       "0                          Allied Bank         Mulberry  AR     91   \n",
       "1         The Woodbury Banking Company         Woodbury  GA  11297   \n",
       "2               First CornerStone Bank  King of Prussia  PA  35312   \n",
       "..                                 ...              ...  ..    ...   \n",
       "544    First Alliance Bank & Trust Co.       Manchester  NH  34264   \n",
       "545  National State Bank of Metropolis       Metropolis  IL   3815   \n",
       "546                   Bank of Honolulu         Honolulu  HI  21029   \n",
       "\n",
       "                   Acquiring Institution        Closing Date  \\\n",
       "0                           Today's Bank  September 23, 2016   \n",
       "1                            United Bank     August 19, 2016   \n",
       "2    First-Citizens Bank & Trust Company         May 6, 2016   \n",
       "..                                   ...                 ...   \n",
       "544  Southern New Hampshire Bank & Trust    February 2, 2001   \n",
       "545              Banterra Bank of Marion   December 14, 2000   \n",
       "546                   Bank of the Orient    October 13, 2000   \n",
       "\n",
       "          Updated Date  \n",
       "0    November 17, 2016  \n",
       "1    November 17, 2016  \n",
       "2    September 6, 2016  \n",
       "..                 ...  \n",
       "544  February 18, 2003  \n",
       "545     March 17, 2005  \n",
       "546     March 17, 2005  \n",
       "\n",
       "[547 rows x 7 columns]"
      ]
     },
     "execution_count": 144,
     "metadata": {},
     "output_type": "execute_result"
    }
   ],
   "source": [
    "failures = pd.read_html(\"examples/fdic_failed_bank_list.html\")[0]\n",
    "failures"
   ]
  },
  {
   "cell_type": "code",
   "execution_count": 143,
   "id": "1153940f",
   "metadata": {},
   "outputs": [
    {
     "data": {
      "text/plain": [
       "0     2016-09-23\n",
       "1     2016-08-19\n",
       "2     2016-05-06\n",
       "         ...    \n",
       "544   2001-02-02\n",
       "545   2000-12-14\n",
       "546   2000-10-13\n",
       "Name: Closing Date, Length: 547, dtype: datetime64[ns]"
      ]
     },
     "execution_count": 143,
     "metadata": {},
     "output_type": "execute_result"
    }
   ],
   "source": [
    "close_timespans = pd.to_datetime(failures[\"Closing Date\"])\n",
    "close_timespans"
   ]
  },
  {
   "cell_type": "code",
   "execution_count": 147,
   "id": "c43e2ddf",
   "metadata": {},
   "outputs": [
    {
     "data": {
      "text/plain": [
       "2010    157\n",
       "2009    140\n",
       "2011     92\n",
       "       ... \n",
       "2007      3\n",
       "2003      3\n",
       "2000      2\n",
       "Name: Closing Date, Length: 15, dtype: int64"
      ]
     },
     "execution_count": 147,
     "metadata": {},
     "output_type": "execute_result"
    }
   ],
   "source": [
    "close_timespans.dt.year.value_counts()"
   ]
  },
  {
   "cell_type": "code",
   "execution_count": 168,
   "id": "0828f5da",
   "metadata": {},
   "outputs": [
    {
     "data": {
      "text/html": [
       "<div>\n",
       "<style scoped>\n",
       "    .dataframe tbody tr th:only-of-type {\n",
       "        vertical-align: middle;\n",
       "    }\n",
       "\n",
       "    .dataframe tbody tr th {\n",
       "        vertical-align: top;\n",
       "    }\n",
       "\n",
       "    .dataframe thead th {\n",
       "        text-align: right;\n",
       "    }\n",
       "</style>\n",
       "<table border=\"1\" class=\"dataframe\">\n",
       "  <thead>\n",
       "    <tr style=\"text-align: right;\">\n",
       "      <th></th>\n",
       "      <th>INDICATOR_SEQ</th>\n",
       "      <th>PARENT_SEQ</th>\n",
       "      <th>AGENCY_NAME</th>\n",
       "      <th>INDICATOR_NAME</th>\n",
       "      <th>DESCRIPTION</th>\n",
       "      <th>PERIOD_YEAR</th>\n",
       "      <th>PERIOD_MONTH</th>\n",
       "      <th>CATEGORY</th>\n",
       "      <th>FREQUENCY</th>\n",
       "      <th>DESIRED_CHANGE</th>\n",
       "      <th>INDICATOR_UNIT</th>\n",
       "      <th>DECIMAL_PLACES</th>\n",
       "      <th>YTD_TARGET</th>\n",
       "      <th>YTD_ACTUAL</th>\n",
       "      <th>MONTHLY_TARGET</th>\n",
       "      <th>MONTHLY_ACTUAL</th>\n",
       "    </tr>\n",
       "  </thead>\n",
       "  <tbody>\n",
       "    <tr>\n",
       "      <th>0</th>\n",
       "      <td>28445</td>\n",
       "      <td>NaN</td>\n",
       "      <td>Metro-North Railroad</td>\n",
       "      <td>On-Time Performance (West of Hudson)</td>\n",
       "      <td>Percent of commuter trains that arrive at thei...</td>\n",
       "      <td>2008</td>\n",
       "      <td>1</td>\n",
       "      <td>Service Indicators</td>\n",
       "      <td>M</td>\n",
       "      <td>U</td>\n",
       "      <td>%</td>\n",
       "      <td>1</td>\n",
       "      <td>95.00</td>\n",
       "      <td>96.90</td>\n",
       "      <td>95.00</td>\n",
       "      <td>96.90</td>\n",
       "    </tr>\n",
       "    <tr>\n",
       "      <th>1</th>\n",
       "      <td>28445</td>\n",
       "      <td>NaN</td>\n",
       "      <td>Metro-North Railroad</td>\n",
       "      <td>On-Time Performance (West of Hudson)</td>\n",
       "      <td>Percent of commuter trains that arrive at thei...</td>\n",
       "      <td>2008</td>\n",
       "      <td>2</td>\n",
       "      <td>Service Indicators</td>\n",
       "      <td>M</td>\n",
       "      <td>U</td>\n",
       "      <td>%</td>\n",
       "      <td>1</td>\n",
       "      <td>95.00</td>\n",
       "      <td>96.00</td>\n",
       "      <td>95.00</td>\n",
       "      <td>95.00</td>\n",
       "    </tr>\n",
       "    <tr>\n",
       "      <th>2</th>\n",
       "      <td>28445</td>\n",
       "      <td>NaN</td>\n",
       "      <td>Metro-North Railroad</td>\n",
       "      <td>On-Time Performance (West of Hudson)</td>\n",
       "      <td>Percent of commuter trains that arrive at thei...</td>\n",
       "      <td>2008</td>\n",
       "      <td>3</td>\n",
       "      <td>Service Indicators</td>\n",
       "      <td>M</td>\n",
       "      <td>U</td>\n",
       "      <td>%</td>\n",
       "      <td>1</td>\n",
       "      <td>95.00</td>\n",
       "      <td>96.30</td>\n",
       "      <td>95.00</td>\n",
       "      <td>96.90</td>\n",
       "    </tr>\n",
       "    <tr>\n",
       "      <th>3</th>\n",
       "      <td>28445</td>\n",
       "      <td>NaN</td>\n",
       "      <td>Metro-North Railroad</td>\n",
       "      <td>On-Time Performance (West of Hudson)</td>\n",
       "      <td>Percent of commuter trains that arrive at thei...</td>\n",
       "      <td>2008</td>\n",
       "      <td>4</td>\n",
       "      <td>Service Indicators</td>\n",
       "      <td>M</td>\n",
       "      <td>U</td>\n",
       "      <td>%</td>\n",
       "      <td>1</td>\n",
       "      <td>95.00</td>\n",
       "      <td>96.80</td>\n",
       "      <td>95.00</td>\n",
       "      <td>98.30</td>\n",
       "    </tr>\n",
       "    <tr>\n",
       "      <th>4</th>\n",
       "      <td>28445</td>\n",
       "      <td>NaN</td>\n",
       "      <td>Metro-North Railroad</td>\n",
       "      <td>On-Time Performance (West of Hudson)</td>\n",
       "      <td>Percent of commuter trains that arrive at thei...</td>\n",
       "      <td>2008</td>\n",
       "      <td>5</td>\n",
       "      <td>Service Indicators</td>\n",
       "      <td>M</td>\n",
       "      <td>U</td>\n",
       "      <td>%</td>\n",
       "      <td>1</td>\n",
       "      <td>95.00</td>\n",
       "      <td>96.60</td>\n",
       "      <td>95.00</td>\n",
       "      <td>95.80</td>\n",
       "    </tr>\n",
       "  </tbody>\n",
       "</table>\n",
       "</div>"
      ],
      "text/plain": [
       "   INDICATOR_SEQ  PARENT_SEQ           AGENCY_NAME  \\\n",
       "0          28445         NaN  Metro-North Railroad   \n",
       "1          28445         NaN  Metro-North Railroad   \n",
       "2          28445         NaN  Metro-North Railroad   \n",
       "3          28445         NaN  Metro-North Railroad   \n",
       "4          28445         NaN  Metro-North Railroad   \n",
       "\n",
       "                         INDICATOR_NAME  \\\n",
       "0  On-Time Performance (West of Hudson)   \n",
       "1  On-Time Performance (West of Hudson)   \n",
       "2  On-Time Performance (West of Hudson)   \n",
       "3  On-Time Performance (West of Hudson)   \n",
       "4  On-Time Performance (West of Hudson)   \n",
       "\n",
       "                                         DESCRIPTION  PERIOD_YEAR  \\\n",
       "0  Percent of commuter trains that arrive at thei...         2008   \n",
       "1  Percent of commuter trains that arrive at thei...         2008   \n",
       "2  Percent of commuter trains that arrive at thei...         2008   \n",
       "3  Percent of commuter trains that arrive at thei...         2008   \n",
       "4  Percent of commuter trains that arrive at thei...         2008   \n",
       "\n",
       "   PERIOD_MONTH            CATEGORY FREQUENCY DESIRED_CHANGE INDICATOR_UNIT  \\\n",
       "0             1  Service Indicators         M              U              %   \n",
       "1             2  Service Indicators         M              U              %   \n",
       "2             3  Service Indicators         M              U              %   \n",
       "3             4  Service Indicators         M              U              %   \n",
       "4             5  Service Indicators         M              U              %   \n",
       "\n",
       "   DECIMAL_PLACES YTD_TARGET YTD_ACTUAL MONTHLY_TARGET MONTHLY_ACTUAL  \n",
       "0               1      95.00      96.90          95.00          96.90  \n",
       "1               1      95.00      96.00          95.00          95.00  \n",
       "2               1      95.00      96.30          95.00          96.90  \n",
       "3               1      95.00      96.80          95.00          98.30  \n",
       "4               1      95.00      96.60          95.00          95.80  "
      ]
     },
     "execution_count": 168,
     "metadata": {},
     "output_type": "execute_result"
    }
   ],
   "source": [
    "path = \"datasets/mta_perf/Performance_MNR.xml\"\n",
    "stats = pd.read_xml(path)\n",
    "stats.head()"
   ]
  },
  {
   "cell_type": "code",
   "execution_count": null,
   "id": "f240b246",
   "metadata": {},
   "outputs": [],
   "source": []
  }
 ],
 "metadata": {
  "kernelspec": {
   "display_name": "Python 3 (ipykernel)",
   "language": "python",
   "name": "python3"
  },
  "language_info": {
   "codemirror_mode": {
    "name": "ipython",
    "version": 3
   },
   "file_extension": ".py",
   "mimetype": "text/x-python",
   "name": "python",
   "nbconvert_exporter": "python",
   "pygments_lexer": "ipython3",
   "version": "3.10.8"
  }
 },
 "nbformat": 4,
 "nbformat_minor": 5
}
